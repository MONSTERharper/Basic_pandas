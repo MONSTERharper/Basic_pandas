{
 "cells": [
  {
   "cell_type": "code",
   "execution_count": 52,
   "metadata": {},
   "outputs": [],
   "source": [
    "import pandas as pd\n",
    "import numpy as np\n",
    "import pprint\n",
    "#reading files\n",
    "df=pd.read_excel(\"C:/Users/sarve/Downloads/2P/2P/Shift_JR_19_396_A3_1.xlsx\")\n",
    "excel=pd.read_excel(\"C:/Users/sarve/Downloads/2P/2P/AcquisitionData_JR_19_396_A3_1.xlsx\")\n",
    "excel2=pd.read_excel(\"C:/Users/sarve/Downloads/2P/2P/AcquisitionData_JR_19_396_A3_1.xlsx\")"
   ]
  },
  {
   "cell_type": "code",
   "execution_count": 53,
   "metadata": {},
   "outputs": [
    {
     "data": {
      "text/html": [
       "<div>\n",
       "<style scoped>\n",
       "    .dataframe tbody tr th:only-of-type {\n",
       "        vertical-align: middle;\n",
       "    }\n",
       "\n",
       "    .dataframe tbody tr th {\n",
       "        vertical-align: top;\n",
       "    }\n",
       "\n",
       "    .dataframe thead th {\n",
       "        text-align: right;\n",
       "    }\n",
       "</style>\n",
       "<table border=\"1\" class=\"dataframe\">\n",
       "  <thead>\n",
       "    <tr style=\"text-align: right;\">\n",
       "      <th></th>\n",
       "      <th>AOI Name</th>\n",
       "      <th>Maximum X Shift</th>\n",
       "      <th>Maximum Y Shift</th>\n",
       "    </tr>\n",
       "  </thead>\n",
       "  <tbody>\n",
       "    <tr>\n",
       "      <th>0</th>\n",
       "      <td>aoi0049</td>\n",
       "      <td>7</td>\n",
       "      <td>3</td>\n",
       "    </tr>\n",
       "    <tr>\n",
       "      <th>1</th>\n",
       "      <td>aoi0050</td>\n",
       "      <td>4</td>\n",
       "      <td>3</td>\n",
       "    </tr>\n",
       "    <tr>\n",
       "      <th>2</th>\n",
       "      <td>aoi0076</td>\n",
       "      <td>2</td>\n",
       "      <td>1</td>\n",
       "    </tr>\n",
       "    <tr>\n",
       "      <th>3</th>\n",
       "      <td>aoi0077</td>\n",
       "      <td>3</td>\n",
       "      <td>1</td>\n",
       "    </tr>\n",
       "    <tr>\n",
       "      <th>4</th>\n",
       "      <td>aoi0081</td>\n",
       "      <td>0</td>\n",
       "      <td>1</td>\n",
       "    </tr>\n",
       "    <tr>\n",
       "      <th>...</th>\n",
       "      <td>...</td>\n",
       "      <td>...</td>\n",
       "      <td>...</td>\n",
       "    </tr>\n",
       "    <tr>\n",
       "      <th>1398</th>\n",
       "      <td>aoi2035</td>\n",
       "      <td>3</td>\n",
       "      <td>1</td>\n",
       "    </tr>\n",
       "    <tr>\n",
       "      <th>1399</th>\n",
       "      <td>aoi2058</td>\n",
       "      <td>1</td>\n",
       "      <td>3</td>\n",
       "    </tr>\n",
       "    <tr>\n",
       "      <th>1400</th>\n",
       "      <td>aoi2059</td>\n",
       "      <td>12</td>\n",
       "      <td>3</td>\n",
       "    </tr>\n",
       "    <tr>\n",
       "      <th>1401</th>\n",
       "      <td>aoi2060</td>\n",
       "      <td>3</td>\n",
       "      <td>1</td>\n",
       "    </tr>\n",
       "    <tr>\n",
       "      <th>1402</th>\n",
       "      <td>aoi2061</td>\n",
       "      <td>4</td>\n",
       "      <td>1</td>\n",
       "    </tr>\n",
       "  </tbody>\n",
       "</table>\n",
       "<p>1403 rows × 3 columns</p>\n",
       "</div>"
      ],
      "text/plain": [
       "     AOI Name  Maximum X Shift  Maximum Y Shift\n",
       "0     aoi0049                7                3\n",
       "1     aoi0050                4                3\n",
       "2     aoi0076                2                1\n",
       "3     aoi0077                3                1\n",
       "4     aoi0081                0                1\n",
       "...       ...              ...              ...\n",
       "1398  aoi2035                3                1\n",
       "1399  aoi2058                1                3\n",
       "1400  aoi2059               12                3\n",
       "1401  aoi2060                3                1\n",
       "1402  aoi2061                4                1\n",
       "\n",
       "[1403 rows x 3 columns]"
      ]
     },
     "execution_count": 53,
     "metadata": {},
     "output_type": "execute_result"
    }
   ],
   "source": [
    "df"
   ]
  },
  {
   "cell_type": "code",
   "execution_count": 55,
   "metadata": {},
   "outputs": [],
   "source": [
    "df2=df[['AOI Name','Maximum X Shift']]\n",
    "df3=df[['AOI Name','Maximum Y Shift']]"
   ]
  },
  {
   "cell_type": "code",
   "execution_count": 56,
   "metadata": {},
   "outputs": [
    {
     "data": {
      "text/html": [
       "<div>\n",
       "<style scoped>\n",
       "    .dataframe tbody tr th:only-of-type {\n",
       "        vertical-align: middle;\n",
       "    }\n",
       "\n",
       "    .dataframe tbody tr th {\n",
       "        vertical-align: top;\n",
       "    }\n",
       "\n",
       "    .dataframe thead th {\n",
       "        text-align: right;\n",
       "    }\n",
       "</style>\n",
       "<table border=\"1\" class=\"dataframe\">\n",
       "  <thead>\n",
       "    <tr style=\"text-align: right;\">\n",
       "      <th></th>\n",
       "      <th>AOI Name</th>\n",
       "      <th>Maximum X Shift</th>\n",
       "    </tr>\n",
       "  </thead>\n",
       "  <tbody>\n",
       "    <tr>\n",
       "      <th>0</th>\n",
       "      <td>aoi0049</td>\n",
       "      <td>7</td>\n",
       "    </tr>\n",
       "    <tr>\n",
       "      <th>1</th>\n",
       "      <td>aoi0050</td>\n",
       "      <td>4</td>\n",
       "    </tr>\n",
       "    <tr>\n",
       "      <th>2</th>\n",
       "      <td>aoi0076</td>\n",
       "      <td>2</td>\n",
       "    </tr>\n",
       "    <tr>\n",
       "      <th>3</th>\n",
       "      <td>aoi0077</td>\n",
       "      <td>3</td>\n",
       "    </tr>\n",
       "    <tr>\n",
       "      <th>4</th>\n",
       "      <td>aoi0081</td>\n",
       "      <td>0</td>\n",
       "    </tr>\n",
       "    <tr>\n",
       "      <th>...</th>\n",
       "      <td>...</td>\n",
       "      <td>...</td>\n",
       "    </tr>\n",
       "    <tr>\n",
       "      <th>1398</th>\n",
       "      <td>aoi2035</td>\n",
       "      <td>3</td>\n",
       "    </tr>\n",
       "    <tr>\n",
       "      <th>1399</th>\n",
       "      <td>aoi2058</td>\n",
       "      <td>1</td>\n",
       "    </tr>\n",
       "    <tr>\n",
       "      <th>1400</th>\n",
       "      <td>aoi2059</td>\n",
       "      <td>12</td>\n",
       "    </tr>\n",
       "    <tr>\n",
       "      <th>1401</th>\n",
       "      <td>aoi2060</td>\n",
       "      <td>3</td>\n",
       "    </tr>\n",
       "    <tr>\n",
       "      <th>1402</th>\n",
       "      <td>aoi2061</td>\n",
       "      <td>4</td>\n",
       "    </tr>\n",
       "  </tbody>\n",
       "</table>\n",
       "<p>1403 rows × 2 columns</p>\n",
       "</div>"
      ],
      "text/plain": [
       "     AOI Name  Maximum X Shift\n",
       "0     aoi0049                7\n",
       "1     aoi0050                4\n",
       "2     aoi0076                2\n",
       "3     aoi0077                3\n",
       "4     aoi0081                0\n",
       "...       ...              ...\n",
       "1398  aoi2035                3\n",
       "1399  aoi2058                1\n",
       "1400  aoi2059               12\n",
       "1401  aoi2060                3\n",
       "1402  aoi2061                4\n",
       "\n",
       "[1403 rows x 2 columns]"
      ]
     },
     "execution_count": 56,
     "metadata": {},
     "output_type": "execute_result"
    }
   ],
   "source": [
    "df2"
   ]
  },
  {
   "cell_type": "code",
   "execution_count": 57,
   "metadata": {},
   "outputs": [],
   "source": [
    "for x in np.nditer(excel,flags=[\"refs_ok\"]):\n",
    "    for i,j in zip(df2['AOI Name'],df2['Maximum X Shift']):\n",
    "        if i==x:\n",
    "            excel = excel.replace([x],j)"
   ]
  },
  {
   "cell_type": "code",
   "execution_count": 58,
   "metadata": {},
   "outputs": [
    {
     "name": "stdout",
     "output_type": "stream",
     "text": [
      "    row \\ col        0        1        2        3        4        5        6  \\\n",
      "0           0  aoi0001  aoi0002  aoi0003  aoi0004  aoi0005  aoi0006  aoi0007   \n",
      "1           1  aoi0066  aoi0065  aoi0064  aoi0063  aoi0062  aoi0061  aoi0060   \n",
      "2           2  aoi0067  aoi0068  aoi0069  aoi0070  aoi0071  aoi0072  aoi0073   \n",
      "3           3  aoi0132  aoi0131  aoi0130  aoi0129  aoi0128  aoi0127  aoi0126   \n",
      "4           4  aoi0133  aoi0134  aoi0135  aoi0136  aoi0137  aoi0138  aoi0139   \n",
      "..        ...      ...      ...      ...      ...      ...      ...      ...   \n",
      "58         58  aoi1915  aoi1916  aoi1917  aoi1918  aoi1919  aoi1920  aoi1921   \n",
      "59         59  aoi1980  aoi1979  aoi1978  aoi1977  aoi1976  aoi1975  aoi1974   \n",
      "60         60  aoi1981  aoi1982  aoi1983  aoi1984  aoi1985  aoi1986  aoi1987   \n",
      "61         61  aoi2046  aoi2045  aoi2044  aoi2043  aoi2042  aoi2041  aoi2040   \n",
      "62         62  aoi2047  aoi2048  aoi2049  aoi2050  aoi2051  aoi2052  aoi2053   \n",
      "\n",
      "          7        8  ...       23       24       25       26       27  \\\n",
      "0   aoi0008  aoi0009  ...  aoi0024  aoi0025  aoi0026  aoi0027  aoi0028   \n",
      "1   aoi0059  aoi0058  ...  aoi0043  aoi0042  aoi0041  aoi0040  aoi0039   \n",
      "2   aoi0074  aoi0075  ...  aoi0090  aoi0091  aoi0092  aoi0093  aoi0094   \n",
      "3   aoi0125        3  ...  aoi0109  aoi0108  aoi0107  aoi0106  aoi0105   \n",
      "4   aoi0140        4  ...  aoi0156  aoi0157  aoi0158  aoi0159  aoi0160   \n",
      "..      ...      ...  ...      ...      ...      ...      ...      ...   \n",
      "58  aoi1922  aoi1923  ...  aoi1938  aoi1939  aoi1940  aoi1941  aoi1942   \n",
      "59  aoi1973  aoi1972  ...  aoi1957  aoi1956  aoi1955  aoi1954  aoi1953   \n",
      "60  aoi1988  aoi1989  ...  aoi2004  aoi2005  aoi2006  aoi2007  aoi2008   \n",
      "61  aoi2039  aoi2038  ...  aoi2023  aoi2022  aoi2021  aoi2020  aoi2019   \n",
      "62  aoi2054  aoi2055  ...  aoi2070  aoi2071  aoi2072  aoi2073  aoi2074   \n",
      "\n",
      "         28       29       30       31       32  \n",
      "0   aoi0029  aoi0030  aoi0031  aoi0032  aoi0033  \n",
      "1   aoi0038  aoi0037  aoi0036  aoi0035  aoi0034  \n",
      "2   aoi0095  aoi0096  aoi0097  aoi0098  aoi0099  \n",
      "3   aoi0104  aoi0103  aoi0102  aoi0101  aoi0100  \n",
      "4   aoi0161  aoi0162  aoi0163  aoi0164  aoi0165  \n",
      "..      ...      ...      ...      ...      ...  \n",
      "58  aoi1943  aoi1944  aoi1945  aoi1946  aoi1947  \n",
      "59  aoi1952  aoi1951  aoi1950  aoi1949  aoi1948  \n",
      "60  aoi2009  aoi2010  aoi2011  aoi2012  aoi2013  \n",
      "61  aoi2018  aoi2017  aoi2016  aoi2015  aoi2014  \n",
      "62  aoi2075  aoi2076  aoi2077  aoi2078  aoi2079  \n",
      "\n",
      "[63 rows x 34 columns]\n"
     ]
    }
   ],
   "source": [
    "pprint.pprint(excel)"
   ]
  },
  {
   "cell_type": "code",
   "execution_count": 59,
   "metadata": {},
   "outputs": [],
   "source": [
    "excel.to_excel('C:/Users/sarve/Downloads/JR_19_396_A3_1(max-X).xlsx')"
   ]
  },
  {
   "cell_type": "code",
   "execution_count": 60,
   "metadata": {},
   "outputs": [],
   "source": [
    "excel=pd.read_excel(\"C:/Users/sarve/Downloads/2P/2P/AcquisitionData_JR_19_396_A3_1.xlsx\")\n",
    "excel2=pd.read_excel(\"C:/Users/sarve/Downloads/2P/2P/AcquisitionData_JR_19_396_A3_1.xlsx\")"
   ]
  },
  {
   "cell_type": "code",
   "execution_count": 62,
   "metadata": {},
   "outputs": [],
   "source": [
    "for x in np.nditer(excel,flags=[\"refs_ok\"]):\n",
    "    for i,j in zip(df3['AOI Name'],df3['Maximum Y Shift']):\n",
    "        if i==x:\n",
    "            excel = excel.replace([x],j)"
   ]
  },
  {
   "cell_type": "code",
   "execution_count": 63,
   "metadata": {
    "scrolled": false
   },
   "outputs": [
    {
     "name": "stdout",
     "output_type": "stream",
     "text": [
      "    row \\ col        0        1        2        3        4        5        6  \\\n",
      "0           0  aoi0001  aoi0002  aoi0003  aoi0004  aoi0005  aoi0006  aoi0007   \n",
      "1           1  aoi0066  aoi0065  aoi0064  aoi0063  aoi0062  aoi0061  aoi0060   \n",
      "2           2  aoi0067  aoi0068  aoi0069  aoi0070  aoi0071  aoi0072  aoi0073   \n",
      "3           3  aoi0132  aoi0131  aoi0130  aoi0129  aoi0128  aoi0127  aoi0126   \n",
      "4           4  aoi0133  aoi0134  aoi0135  aoi0136  aoi0137  aoi0138  aoi0139   \n",
      "..        ...      ...      ...      ...      ...      ...      ...      ...   \n",
      "58         58  aoi1915  aoi1916  aoi1917  aoi1918  aoi1919  aoi1920  aoi1921   \n",
      "59         59  aoi1980  aoi1979  aoi1978  aoi1977  aoi1976  aoi1975  aoi1974   \n",
      "60         60  aoi1981  aoi1982  aoi1983  aoi1984  aoi1985  aoi1986  aoi1987   \n",
      "61         61  aoi2046  aoi2045  aoi2044  aoi2043  aoi2042  aoi2041  aoi2040   \n",
      "62         62  aoi2047  aoi2048  aoi2049  aoi2050  aoi2051  aoi2052  aoi2053   \n",
      "\n",
      "          7        8  ...       23       24       25       26       27  \\\n",
      "0   aoi0008  aoi0009  ...  aoi0024  aoi0025  aoi0026  aoi0027  aoi0028   \n",
      "1   aoi0059  aoi0058  ...  aoi0043  aoi0042  aoi0041  aoi0040  aoi0039   \n",
      "2   aoi0074  aoi0075  ...  aoi0090  aoi0091  aoi0092  aoi0093  aoi0094   \n",
      "3   aoi0125        4  ...  aoi0109  aoi0108  aoi0107  aoi0106  aoi0105   \n",
      "4   aoi0140        2  ...  aoi0156  aoi0157  aoi0158  aoi0159  aoi0160   \n",
      "..      ...      ...  ...      ...      ...      ...      ...      ...   \n",
      "58  aoi1922  aoi1923  ...  aoi1938  aoi1939  aoi1940  aoi1941  aoi1942   \n",
      "59  aoi1973  aoi1972  ...  aoi1957  aoi1956  aoi1955  aoi1954  aoi1953   \n",
      "60  aoi1988  aoi1989  ...  aoi2004  aoi2005  aoi2006  aoi2007  aoi2008   \n",
      "61  aoi2039  aoi2038  ...  aoi2023  aoi2022  aoi2021  aoi2020  aoi2019   \n",
      "62  aoi2054  aoi2055  ...  aoi2070  aoi2071  aoi2072  aoi2073  aoi2074   \n",
      "\n",
      "         28       29       30       31       32  \n",
      "0   aoi0029  aoi0030  aoi0031  aoi0032  aoi0033  \n",
      "1   aoi0038  aoi0037  aoi0036  aoi0035  aoi0034  \n",
      "2   aoi0095  aoi0096  aoi0097  aoi0098  aoi0099  \n",
      "3   aoi0104  aoi0103  aoi0102  aoi0101  aoi0100  \n",
      "4   aoi0161  aoi0162  aoi0163  aoi0164  aoi0165  \n",
      "..      ...      ...      ...      ...      ...  \n",
      "58  aoi1943  aoi1944  aoi1945  aoi1946  aoi1947  \n",
      "59  aoi1952  aoi1951  aoi1950  aoi1949  aoi1948  \n",
      "60  aoi2009  aoi2010  aoi2011  aoi2012  aoi2013  \n",
      "61  aoi2018  aoi2017  aoi2016  aoi2015  aoi2014  \n",
      "62  aoi2075  aoi2076  aoi2077  aoi2078  aoi2079  \n",
      "\n",
      "[63 rows x 34 columns]\n"
     ]
    }
   ],
   "source": [
    "pprint.pprint(excel)"
   ]
  },
  {
   "cell_type": "code",
   "execution_count": 64,
   "metadata": {},
   "outputs": [],
   "source": [
    "excel.to_excel('C:/Users/sarve/Downloads/JR_19_396_A3_1(max-Y).xlsx')"
   ]
  },
  {
   "cell_type": "code",
   "execution_count": null,
   "metadata": {},
   "outputs": [],
   "source": []
  }
 ],
 "metadata": {
  "kernelspec": {
   "display_name": "Python 3",
   "language": "python",
   "name": "python3"
  },
  "language_info": {
   "codemirror_mode": {
    "name": "ipython",
    "version": 3
   },
   "file_extension": ".py",
   "mimetype": "text/x-python",
   "name": "python",
   "nbconvert_exporter": "python",
   "pygments_lexer": "ipython3",
   "version": "3.8.5"
  }
 },
 "nbformat": 4,
 "nbformat_minor": 4
}
